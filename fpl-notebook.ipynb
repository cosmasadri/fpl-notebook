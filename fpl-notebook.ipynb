{
 "cells": [
  {
   "cell_type": "code",
   "execution_count": 24,
   "metadata": {},
   "outputs": [],
   "source": [
    "import json\n",
    "import requests\n",
    "\n",
    "url = 'https://fantasy.premierleague.com/api/bootstrap-static/'\n",
    "r = requests.get(url)\n",
    "fpl_json = r.json()"
   ]
  },
  {
   "cell_type": "code",
   "execution_count": 25,
   "metadata": {
    "scrolled": true
   },
   "outputs": [],
   "source": [
    "import pandas as pd\n",
    "\n",
    "teams = dict([\n",
    "    [\n",
    "        team['id'],\n",
    "        dict(\n",
    "            name=team['name'],\n",
    "            short_name=team['short_name']\n",
    "        )\n",
    "    ]\n",
    "    for team in fpl_json['teams']\n",
    "])\n",
    "\n",
    "positions = dict([\n",
    "    [\n",
    "        position['id'],\n",
    "        dict(\n",
    "            name=position['singular_name'],\n",
    "            short_name=position['singular_name_short'],\n",
    "            max_players=position['squad_select']\n",
    "        )\n",
    "    ]\n",
    "    for position in fpl_json['element_types']\n",
    "])\n",
    "\n",
    "df_players = pd.DataFrame(fpl_json['elements'])\n",
    "df_players['form'] = df_players['form'].astype(float)\n",
    "df_players['selected_by_percent'] = df_players['selected_by_percent'].astype(float)\n",
    "\n",
    "players = dict([\n",
    "    [\n",
    "        player['id'],\n",
    "        dict(\n",
    "            first_name=player['first_name'],\n",
    "            last_name=player['second_name'],\n",
    "            team_id=player['team'],\n",
    "            position_id=player['element_type'],\n",
    "            cost=player['now_cost'],\n",
    "            total_points=player['total_points'],\n",
    "            form=int(player['form'] * 10),\n",
    "            selected_by_percent=int(player['selected_by_percent'] * 10)\n",
    "        )\n",
    "    ]\n",
    "    for _, player in df_players.iterrows()\n",
    "])\n",
    "\n",
    "max_total_points = df_players['total_points'].max()\n",
    "max_form = int(df_players['form'].max() * 10)\n",
    "max_selected_by_percent = int(df_players['selected_by_percent'].max() * 10)"
   ]
  },
  {
   "cell_type": "code",
   "execution_count": 26,
   "metadata": {},
   "outputs": [
    {
     "output_type": "stream",
     "name": "stdout",
     "text": [
      "max. total points\t: 130\nmax. form\t\t: 8.0\nmax. selected (%)\t: 62.5\n"
     ]
    }
   ],
   "source": [
    "print('max. total points\\t: {}\\nmax. form\\t\\t: {}\\nmax. selected (%)\\t: {}'\n",
    "      .format(max_total_points, max_form/10, max_selected_by_percent/10))"
   ]
  },
  {
   "cell_type": "code",
   "execution_count": 35,
   "metadata": {},
   "outputs": [],
   "source": [
    "### INPUT ###\n",
    "available_money = 99\n",
    "\n",
    "# weights required for the optimization\n",
    "w_total_points = 0.5\n",
    "w_form = 0.4\n",
    "w_selected_by_percent = 0.1\n",
    "#############"
   ]
  },
  {
   "cell_type": "code",
   "execution_count": 42,
   "metadata": {},
   "outputs": [],
   "source": [
    "available_money_10 = available_money * 10  # available money multiplied by ten\n",
    "\n",
    "\n",
    "# OR tools\n",
    "from ortools.linear_solver import pywraplp\n",
    "\n",
    "solver = pywraplp.Solver.CreateSolver(\"SCIP\")\n",
    "\n",
    "# defining decision variable x for players\n",
    "x = {}\n",
    "for player_id in players:\n",
    "    x[player_id] = solver.IntVar(0, 1, \"x[%i]\" % player_id)\n",
    "\n",
    "# constraint: total costs of players cannot be greater than available money\n",
    "solver.Add(\n",
    "    sum(\n",
    "        x[player_id] * player_info[\"cost\"] for player_id, player_info in players.items()\n",
    "    )\n",
    "    <= available_money_10\n",
    ")\n",
    "\n",
    "# constraint: each team cannot have more than 3 persons\n",
    "for team_id in teams.keys():\n",
    "    solver.Add(\n",
    "        sum(\n",
    "            x[player_id]\n",
    "            for player_id, player_info in players.items()\n",
    "            if player_info[\"team_id\"] == team_id\n",
    "        )\n",
    "        <= 3\n",
    "    )\n",
    "\n",
    "# constraint: each position must be filled by the specified number of persons of this particular position\n",
    "for pos_id, pos_info in positions.items():\n",
    "    solver.Add(\n",
    "        sum(\n",
    "            x[player_id]\n",
    "            for player_id, player_info in players.items()\n",
    "            if player_info[\"position_id\"] == pos_id\n",
    "        )\n",
    "        == pos_info[\"max_players\"]\n",
    "    )\n",
    "\n",
    "solver.Maximize(\n",
    "    solver.Sum(\n",
    "        x[player_id]\n",
    "        * (\n",
    "            (player_info[\"total_points\"] * w_total_points / max_total_points)\n",
    "            + (player_info[\"form\"] * w_form / max_form)\n",
    "            + (\n",
    "                player_info[\"selected_by_percent\"]\n",
    "                * w_selected_by_percent\n",
    "                / max_selected_by_percent\n",
    "            )\n",
    "        )\n",
    "        for player_id, player_info in players.items()\n",
    "    )\n",
    ")\n",
    "\n",
    "status = solver.Solve()\n",
    "\n",
    "selected_players = {}\n",
    "if status == pywraplp.Solver.OPTIMAL:\n",
    "    for player_id, player_info in players.items():\n",
    "        if x[player_id].solution_value() == 1:\n",
    "            selected_players[player_id] = player_info\n"
   ]
  },
  {
   "cell_type": "code",
   "execution_count": 44,
   "metadata": {},
   "outputs": [
    {
     "output_type": "stream",
     "name": "stdout",
     "text": [
      "GKP AVL Emiliano Martínez\nMID AVL Jack Grealish\nMID AVL Anwar El Ghazi\nFWD EVE Dominic Calvert-Lewin\nFWD LEI Jamie Vardy\nDEF LEE Stuart Dallas\nFWD LEE Patrick Bamford\nMID MUN Bruno Miguel Borges Fernandes\nGKP SOU Alex McCarthy\nDEF SOU Kyle Walker-Peters\nDEF SOU Jan Bednarek\nMID TOT Heung-Min Son\nDEF WHU Angelo Ogbonna\nDEF WHU Aaron Cresswell\nMID WHU Tomas Soucek\n"
     ]
    }
   ],
   "source": [
    "for player_id, player_info in selected_players.items():\n",
    "    print(positions[player_info['position_id']]['short_name'], teams[player_info['team_id']]['short_name'], player_info['first_name'], player_info['last_name'])"
   ]
  },
  {
   "cell_type": "code",
   "execution_count": null,
   "metadata": {},
   "outputs": [],
   "source": []
  }
 ],
 "metadata": {
  "kernelspec": {
   "name": "python3",
   "display_name": "Python 3.8.6 64-bit ('fpl-jupyter-venv')",
   "metadata": {
    "interpreter": {
     "hash": "4b33ac68fa180c2b66cf38340cca019b3b0dad2b4c71334ef204209b063286ff"
    }
   }
  },
  "language_info": {
   "codemirror_mode": {
    "name": "ipython",
    "version": 3
   },
   "file_extension": ".py",
   "mimetype": "text/x-python",
   "name": "python",
   "nbconvert_exporter": "python",
   "pygments_lexer": "ipython3",
   "version": "3.8.6-final"
  }
 },
 "nbformat": 4,
 "nbformat_minor": 4
}